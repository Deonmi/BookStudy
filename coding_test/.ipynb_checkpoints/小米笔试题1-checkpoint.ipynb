{
 "cells": [
  {
   "cell_type": "markdown",
   "metadata": {},
   "source": [
    "利润最大化\n",
    "时间限制：C/C++语言 1000MS；其他语言 3000MS\n",
    "内存限制：C/C++语言 65536KB；其他语言 589824KB\n",
    "题目描述：\n",
    "米兔是一个投资人，持有着小米的股票。股票价格每日都有波动，数组price代表了每日股票的具体价格，其中price[i]代表小米在第i天的股价。米兔最多可以进行两次交易（一个买进，卖出为一次交易）并且不能同时进行两次交易（必须在再次购买前出售掉之前的股票），米兔想知道他最多能够获得多少利润呢?\n",
    "\n",
    "输入\n",
    "正整数序price,代表了股票价格。其中第i个数代表了第i天的价格。\n",
    "\n",
    "输出\n",
    "两次交易后能获得的最大利润\n",
    "\n",
    "\n",
    "样例输入\n",
    "2 1 5 0 2 3 1 4\n",
    "样例输出\n",
    "8\n"
   ]
  },
  {
   "cell_type": "markdown",
   "metadata": {},
   "source": [
    "最大连续子序列之和\n",
    "时间限制：C/C++语言 1000MS；其他语言 3000MS\n",
    "内存限制：C/C++语言 65536KB；其他语言 589824KB\n",
    "题目描述：\n",
    "给定K个整数的序列{ N1, N2, ..., NK }，其任意连续子序列可表示为{ Ni, Ni+1, ..., Nj }，其中 1 <= i <= j <= K。最大连续子序列是所有连续子序中元素和最大的一个， 例如给定序列{ -2, 11, -4, 13, -5, -2 }，其最大连续子序列为{ 11, -4, 13 }，最大和为20\n",
    "\n",
    "输入\n",
    "一个整数数组\n",
    "\n",
    "输出\n",
    "最大的和\n",
    "\n",
    "\n",
    "样例输入\n",
    "1 2 3\n",
    "样例输出\n",
    "6"
   ]
  },
  {
   "cell_type": "code",
   "execution_count": null,
   "metadata": {},
   "outputs": [],
   "source": []
  },
  {
   "cell_type": "code",
   "execution_count": 12,
   "metadata": {},
   "outputs": [],
   "source": [
    "def f(data):\n",
    "    max_valuesum = 0\n",
    "    temp = 0\n",
    "    for i in range(len(data)):\n",
    "        if max_valuesum <= 0:\n",
    "            temp = data[i]\n",
    "        else:\n",
    "            temp += data[i]\n",
    "\n",
    "        if(temp > max_valuesum):\n",
    "            max_valuesum = temp\n",
    "    return max_valuesum\n",
    "\n",
    "x = input()\n",
    "data = x.split()\n",
    "data = [int(s) for s in data]\n",
    "print(f(data))"
   ]
  },
  {
   "cell_type": "code",
   "execution_count": 15,
   "metadata": {},
   "outputs": [
    {
     "name": "stdin",
     "output_type": "stream",
     "text": [
      " 1 2 3\n"
     ]
    },
    {
     "name": "stdout",
     "output_type": "stream",
     "text": [
      "6\n"
     ]
    }
   ],
   "source": [
    "def f(nums):\n",
    "    \"\"\"\n",
    "    从起点开始，一直求和，只要大于0，就能达到顶峰。\n",
    "    如果小于0，就肯定GG，所以从下一个值当作新的起点。\n",
    "    然后记录这个过程中的最大值。\n",
    "    \"\"\"\n",
    "    temp = nums[0]\n",
    "    max_value = temp\n",
    "    for i in range(1, len(nums)):\n",
    "        now_value = nums[i]\n",
    "        if temp >0:\n",
    "            max_value = max(max_value, temp + now_value)\n",
    "            temp = temp + now_value\n",
    "        else:\n",
    "            max_value = max(max_value,  now_value)\n",
    "            temp = now_value\n",
    "    return max_value\n",
    "\n",
    "\n",
    "x = input()\n",
    "nums = x.split()\n",
    "nums = [int(s) for s in nums]\n",
    "print(f(nums))"
   ]
  },
  {
   "cell_type": "code",
   "execution_count": 16,
   "metadata": {},
   "outputs": [
    {
     "name": "stdout",
     "output_type": "stream",
     "text": [
      "5\n"
     ]
    }
   ],
   "source": [
    "def maxProfit(nums):\n",
    "    # 倒序遍历数组, 获取其最大值\n",
    "    # 将最大值 - 每个值 = 当前的最大利润\n",
    "    if not nums:\n",
    "        return 0\n",
    "    r, max_values = 0, nums[-1]\n",
    "    for i in range(len(nums) - 1, -1, -1):\n",
    "        # 当前更大的值\n",
    "        if nums[i] > max_values:\n",
    "            max_values = nums[i]\n",
    "        else:\n",
    "            # 最大利润\n",
    "            r = max(max_values - nums[i], r)\n",
    "    return r\n",
    "\n",
    "print(maxProfit([7,1,5,3,6,4]))"
   ]
  },
  {
   "cell_type": "code",
   "execution_count": null,
   "metadata": {},
   "outputs": [],
   "source": [
    "def f(nums):\n",
    "    # 倒序遍历数组, 获取其最大值\n",
    "    # 将最大值 - 每个值 = 当前的最大利润\n",
    "    if not nums:\n",
    "        return 0\n",
    "    r, max_values = 0, nums[-1]\n",
    "    for i in range(len(nums) - 1, -1, -1):\n",
    "        # 当前更大的值f\n",
    "        if nums[i] > max_values:\n",
    "            max_values = nums[i]\n",
    "        else:\n",
    "            # 最大利润\n",
    "            r = max(max_values - nums[i], r)\n",
    "    return r\n",
    "\n",
    "\n",
    "x = input()\n",
    "nums = x.split()\n",
    "nums = [int(s) for s in nums]\n",
    "print(f(nums))"
   ]
  },
  {
   "cell_type": "code",
   "execution_count": null,
   "metadata": {},
   "outputs": [],
   "source": []
  },
  {
   "cell_type": "code",
   "execution_count": null,
   "metadata": {},
   "outputs": [],
   "source": []
  },
  {
   "cell_type": "code",
   "execution_count": 19,
   "metadata": {},
   "outputs": [
    {
     "name": "stdin",
     "output_type": "stream",
     "text": [
      " 2 1 5 0 2 3 1 4\n"
     ]
    },
    {
     "name": "stdout",
     "output_type": "stream",
     "text": [
      "8\n"
     ]
    }
   ],
   "source": [
    "def maxProfit(k, prices):\n",
    "    if not prices or not k:\n",
    "        return 0\n",
    "    n  = len(prices)\n",
    "    # 如果k大于数组长度的一半，则可以用贪心解决\n",
    "    if k > n//2:\n",
    "        return self.greedy(prices)\n",
    "    # 动态规划\n",
    "    dp = [[[0] * 2 for _ in range(k+1)] for _ in range(n)]\n",
    "    res = []\n",
    "    # 设置初始状态\n",
    "    for i in range(k+1):\n",
    "        dp[0][i][0], dp[0][i][1] = 0, -prices[0]\n",
    "    # 开始两层循环\n",
    "    for i in range(1,n):\n",
    "        for j in range(k+1):\n",
    "            if not j:\n",
    "                dp[i][j][0] = dp[i-1][j][0]\n",
    "            else:\n",
    "                dp[i][j][0] = max(dp[i-1][j][0], dp[i-1][j-1][1] + prices[i])\n",
    "            dp[i][j][1] = max(dp[i-1][j][1], dp[i-1][j][0] - prices[i])\n",
    "    # 找到最大值\n",
    "    for m in range(k+1):\n",
    "#         print(dp[n-1][m][0])\n",
    "        res.append(dp[n-1][m][0])\n",
    "    return max(res)\n",
    "\n",
    "\n",
    "def greedy(self, prices):\n",
    "    res = 0\n",
    "    for i in range(1,len(prices)):\n",
    "        if prices[i] > prices[i-1]:\n",
    "            res += prices[i] - prices[i-1]\n",
    "    return res\n",
    "\n",
    "\n",
    "x = input()\n",
    "nums = x.split()\n",
    "nums = [int(s) for s in nums]\n",
    "print(maxProfit(2, nums))"
   ]
  },
  {
   "cell_type": "markdown",
   "metadata": {},
   "source": [
    "https://leetcode-cn.com/problems/best-time-to-buy-and-sell-stock-iv/solution/pythondong-tai-gui-hua-cong-tou-si-lu-yi-ji-wan-zh/?tdsourcetag=s_pcqq_aiomsg"
   ]
  },
  {
   "cell_type": "code",
   "execution_count": null,
   "metadata": {},
   "outputs": [],
   "source": []
  }
 ],
 "metadata": {
  "kernelspec": {
   "display_name": "Python 3",
   "language": "python",
   "name": "python3"
  },
  "language_info": {
   "codemirror_mode": {
    "name": "ipython",
    "version": 3
   },
   "file_extension": ".py",
   "mimetype": "text/x-python",
   "name": "python",
   "nbconvert_exporter": "python",
   "pygments_lexer": "ipython3",
   "version": "3.5.3"
  }
 },
 "nbformat": 4,
 "nbformat_minor": 4
}
