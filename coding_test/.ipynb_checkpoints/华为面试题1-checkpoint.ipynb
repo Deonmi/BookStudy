{
 "cells": [
  {
   "cell_type": "code",
   "execution_count": 1,
   "metadata": {},
   "outputs": [],
   "source": [
    "def Dec2Bin(dec):\n",
    "    result = \"\"\n",
    "    if dec:\n",
    "        result = Dec2Bin(dec // 2)\n",
    "        return result + str(dec % 2)\n",
    "    else:\n",
    "        return result"
   ]
  },
  {
   "cell_type": "code",
   "execution_count": 2,
   "metadata": {},
   "outputs": [
    {
     "data": {
      "text/plain": [
       "'10101'"
      ]
     },
     "execution_count": 2,
     "metadata": {},
     "output_type": "execute_result"
    }
   ],
   "source": [
    "Dec2Bin(21)"
   ]
  },
  {
   "cell_type": "code",
   "execution_count": 4,
   "metadata": {},
   "outputs": [],
   "source": [
    "x = Dec2Bin(21)"
   ]
  },
  {
   "cell_type": "code",
   "execution_count": 10,
   "metadata": {},
   "outputs": [
    {
     "data": {
      "text/plain": [
       "'10101'"
      ]
     },
     "execution_count": 10,
     "metadata": {},
     "output_type": "execute_result"
    }
   ],
   "source": [
    "x_reverse = x[::-1]\n",
    "x_reverse"
   ]
  },
  {
   "cell_type": "code",
   "execution_count": 12,
   "metadata": {},
   "outputs": [
    {
     "data": {
      "text/plain": [
       "0"
      ]
     },
     "execution_count": 12,
     "metadata": {},
     "output_type": "execute_result"
    }
   ],
   "source": [
    "index_101 = x_reverse.index('101')\n",
    "index_101"
   ]
  },
  {
   "cell_type": "code",
   "execution_count": 15,
   "metadata": {},
   "outputs": [
    {
     "data": {
      "text/plain": [
       "False"
      ]
     },
     "execution_count": 15,
     "metadata": {},
     "output_type": "execute_result"
    }
   ],
   "source": [
    "'1011' in x_reverse"
   ]
  },
  {
   "cell_type": "code",
   "execution_count": 17,
   "metadata": {},
   "outputs": [],
   "source": [
    "def count_101(num):\n",
    "    count_num = 0\n",
    "    \n",
    "    if '101' in num:\n",
    "        start = num.index('101')\n",
    "        num = num[start:]\n",
    "        while '101' in num:\n",
    "            count_num += 1\n",
    "            num = num[2:]\n",
    "        return str(count_num) + ' ' + str(start)\n",
    "    else:\n",
    "        return '0 -1'"
   ]
  },
  {
   "cell_type": "code",
   "execution_count": 18,
   "metadata": {},
   "outputs": [
    {
     "data": {
      "text/plain": [
       "'10101'"
      ]
     },
     "execution_count": 18,
     "metadata": {},
     "output_type": "execute_result"
    }
   ],
   "source": [
    "x_reverse"
   ]
  },
  {
   "cell_type": "code",
   "execution_count": 19,
   "metadata": {},
   "outputs": [
    {
     "data": {
      "text/plain": [
       "'2 0'"
      ]
     },
     "execution_count": 19,
     "metadata": {},
     "output_type": "execute_result"
    }
   ],
   "source": [
    "count_101(x_reverse)"
   ]
  },
  {
   "cell_type": "code",
   "execution_count": 20,
   "metadata": {},
   "outputs": [],
   "source": [
    "def count_101(dec):\n",
    "    \n",
    "    def Dec2Bin(dec):\n",
    "        result = \"\"\n",
    "        if dec:\n",
    "            result = Dec2Bin(dec // 2)\n",
    "            return result + str(dec % 2)\n",
    "        else:\n",
    "            return result\n",
    "    \n",
    "    num_temp = Dec2Bin(dec)\n",
    "    num = num_temp[::-1]\n",
    "    \n",
    "    count_num = 0\n",
    "    \n",
    "    if '101' in num:\n",
    "        start = num.index('101')\n",
    "        num = num[start:]\n",
    "        while '101' in num:\n",
    "            count_num += 1\n",
    "            num = num[2:]\n",
    "        return str(count_num) + ' ' + str(start)\n",
    "    else:\n",
    "        return '0 -1'"
   ]
  },
  {
   "cell_type": "code",
   "execution_count": 21,
   "metadata": {},
   "outputs": [
    {
     "data": {
      "text/plain": [
       "'2 0'"
      ]
     },
     "execution_count": 21,
     "metadata": {},
     "output_type": "execute_result"
    }
   ],
   "source": [
    "count_101(21)"
   ]
  },
  {
   "cell_type": "code",
   "execution_count": null,
   "metadata": {},
   "outputs": [],
   "source": []
  }
 ],
 "metadata": {
  "kernelspec": {
   "display_name": "Python 3",
   "language": "python",
   "name": "python3"
  },
  "language_info": {
   "codemirror_mode": {
    "name": "ipython",
    "version": 3
   },
   "file_extension": ".py",
   "mimetype": "text/x-python",
   "name": "python",
   "nbconvert_exporter": "python",
   "pygments_lexer": "ipython3",
   "version": "3.5.2"
  }
 },
 "nbformat": 4,
 "nbformat_minor": 2
}
