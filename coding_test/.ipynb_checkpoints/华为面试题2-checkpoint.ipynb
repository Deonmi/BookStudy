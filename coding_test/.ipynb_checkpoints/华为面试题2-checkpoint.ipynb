{
 "cells": [
  {
   "cell_type": "code",
   "execution_count": 35,
   "metadata": {},
   "outputs": [],
   "source": [
    "def decoder(words):\n",
    "    words_count = []\n",
    "    new_str = ''\n",
    "    stack = []\n",
    "    count = 0\n",
    "    for word in list(words):\n",
    "        if word != '\"' and stack == []:\n",
    "            if word != ',':\n",
    "                new_str = new_str + word\n",
    "            else:\n",
    "                if new_str:\n",
    "                    words_count.append(new_str)\n",
    "                else:\n",
    "                    words_count.append('--')\n",
    "                new_str = ''\n",
    "        elif word == '\"' and stack == []:\n",
    "            stack.append('head')\n",
    "        else:\n",
    "            # 直到引号逗号，或者引号是最后一个则结束\n",
    "            if (count == len(words)-1):\n",
    "                words_count.append(''.join(stack[1:]))\n",
    "                stack = []\n",
    "                break\n",
    "            if word == '\"' and words[count+1] == ',':\n",
    "                words_count.append(''.join(stack[1:]))\n",
    "                stack = []\n",
    "                count += 1\n",
    "                continue\n",
    "            \n",
    "            if words[count-1] == '\"' and word == '\"':\n",
    "                count += 1\n",
    "                continue\n",
    "            stack.append(word)\n",
    "                \n",
    "        \n",
    "        count += 1\n",
    "\n",
    "    print(words_count)\n",
    "            "
   ]
  },
  {
   "cell_type": "code",
   "execution_count": 36,
   "metadata": {},
   "outputs": [],
   "source": [
    "words = 'a,,1,\"b,\"\"\"'"
   ]
  },
  {
   "cell_type": "code",
   "execution_count": 37,
   "metadata": {},
   "outputs": [
    {
     "name": "stdout",
     "output_type": "stream",
     "text": [
      "['a', '--', '1', 'b,\"']\n"
     ]
    }
   ],
   "source": [
    "decoder(words)"
   ]
  },
  {
   "cell_type": "code",
   "execution_count": 15,
   "metadata": {},
   "outputs": [],
   "source": [
    "a = ['1', '2', '3']"
   ]
  },
  {
   "cell_type": "code",
   "execution_count": 16,
   "metadata": {},
   "outputs": [
    {
     "data": {
      "text/plain": [
       "'123'"
      ]
     },
     "execution_count": 16,
     "metadata": {},
     "output_type": "execute_result"
    }
   ],
   "source": [
    "''.join(a)"
   ]
  },
  {
   "cell_type": "code",
   "execution_count": null,
   "metadata": {},
   "outputs": [],
   "source": []
  }
 ],
 "metadata": {
  "kernelspec": {
   "display_name": "Python 3",
   "language": "python",
   "name": "python3"
  },
  "language_info": {
   "codemirror_mode": {
    "name": "ipython",
    "version": 3
   },
   "file_extension": ".py",
   "mimetype": "text/x-python",
   "name": "python",
   "nbconvert_exporter": "python",
   "pygments_lexer": "ipython3",
   "version": "3.5.2"
  }
 },
 "nbformat": 4,
 "nbformat_minor": 2
}
