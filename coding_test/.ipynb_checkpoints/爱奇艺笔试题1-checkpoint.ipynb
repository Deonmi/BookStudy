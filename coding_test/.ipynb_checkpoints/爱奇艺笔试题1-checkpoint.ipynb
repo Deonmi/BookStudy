{
 "cells": [
  {
   "cell_type": "code",
   "execution_count": 24,
   "metadata": {},
   "outputs": [
    {
     "name": "stdin",
     "output_type": "stream",
     "text": [
      " 4\n",
      " 1 1 0\n"
     ]
    }
   ],
   "source": [
    "N = input()\n",
    "N = int(N)\n",
    "a = input().split()"
   ]
  },
  {
   "cell_type": "code",
   "execution_count": 87,
   "metadata": {},
   "outputs": [],
   "source": [
    "def f(arr):\n",
    "    if arr == '11' or arr == '00':\n",
    "        return 1\n",
    "    elif arr == '10' or arr == '01':\n",
    "        return 2\n",
    "    else:\n",
    "        arr = list(arr)\n",
    "        temp_list = []\n",
    "        for x in range(len(arr)):\n",
    "            arr_copy = arr.copy()\n",
    "            arr_copy.pop(x)\n",
    "            arr_str = ''.join(arr_copy)\n",
    "            temp_list.append(arr_str)\n",
    "        temp_list = list(set(temp_list))\n",
    "        count = 0\n",
    "        for y in temp_list:\n",
    "            count += f(y)\n",
    "        return count"
   ]
  },
  {
   "cell_type": "code",
   "execution_count": 92,
   "metadata": {},
   "outputs": [],
   "source": [
    "test = '1111'"
   ]
  },
  {
   "cell_type": "code",
   "execution_count": 93,
   "metadata": {},
   "outputs": [
    {
     "name": "stdout",
     "output_type": "stream",
     "text": [
      "1\n"
     ]
    }
   ],
   "source": [
    "print(f(test))"
   ]
  },
  {
   "cell_type": "code",
   "execution_count": null,
   "metadata": {},
   "outputs": [],
   "source": []
  }
 ],
 "metadata": {
  "kernelspec": {
   "display_name": "Python 3",
   "language": "python",
   "name": "python3"
  },
  "language_info": {
   "codemirror_mode": {
    "name": "ipython",
    "version": 3
   },
   "file_extension": ".py",
   "mimetype": "text/x-python",
   "name": "python",
   "nbconvert_exporter": "python",
   "pygments_lexer": "ipython3",
   "version": "3.5.3"
  }
 },
 "nbformat": 4,
 "nbformat_minor": 4
}
