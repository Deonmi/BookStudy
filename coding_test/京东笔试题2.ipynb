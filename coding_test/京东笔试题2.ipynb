{
 "cells": [
  {
   "cell_type": "code",
   "execution_count": 42,
   "metadata": {},
   "outputs": [
    {
     "name": "stdin",
     "output_type": "stream",
     "text": [
      " 3 1 2 1 1\n",
      " 1 1 1 1 3\n",
      " 1 1 1 1 1\n",
      " 1 1 1 1 1\n",
      " 3 1 2 2 2\n"
     ]
    },
    {
     "name": "stdout",
     "output_type": "stream",
     "text": [
      "[[3, 1, 2, 1, 1], [1, 1, 1, 1, 3], [1, 1, 1, 1, 1], [1, 1, 1, 1, 1], [3, 1, 2, 2, 2]]\n"
     ]
    }
   ],
   "source": [
    "data_raw = []\n",
    "for i in range(5):\n",
    "    inp = input()\n",
    "    hang = inp.split()\n",
    "    temp = [int(s) for s in hang]\n",
    "    data_raw.append(temp)\n",
    "print(data_raw)"
   ]
  },
  {
   "cell_type": "code",
   "execution_count": 58,
   "metadata": {},
   "outputs": [],
   "source": [
    "data = data_raw.copy()"
   ]
  },
  {
   "cell_type": "code",
   "execution_count": 11,
   "metadata": {},
   "outputs": [],
   "source": [
    "def check_num(x, y, d0):\n",
    "    if x < 0 or x >4 or y < 0 or y > 4:\n",
    "        return False\n",
    "    else:\n",
    "        if data[x][y] == d0:\n",
    "            return True\n",
    "        else:\n",
    "            return False"
   ]
  },
  {
   "cell_type": "code",
   "execution_count": 22,
   "metadata": {},
   "outputs": [],
   "source": [
    "def find(nn):\n",
    "    all_numbers = []\n",
    "    for x in range(5):\n",
    "        for y in range(5):\n",
    "            loc = (x, y)\n",
    "            d0 = data[x][y]\n",
    "            numbers = [loc]\n",
    "            check_list = [(x-1, y), (x+1, y), (x, y-1), (x, y+1)]\n",
    "            for l in check_list:\n",
    "                xx = l[0]\n",
    "                yy = l[1]\n",
    "                if check_num(xx, yy, d0):\n",
    "                    numbers.append(l)\n",
    "            if len(numbers)>=3 and d0 == nn:\n",
    "                all_numbers.extend(numbers)\n",
    "    for cp in all_numbers:\n",
    "        data[cp[0]][cp[1]] = 0\n",
    "    for row_number in range(4):\n",
    "        for col_number in range(5):\n",
    "            if data[row_number][col_number] != 0 and data[row_number+1][col_number] == 0:\n",
    "                data[row_number+1][col_number] = data[row_number][col_number]\n",
    "                data[row_number][col_number] = 0\n",
    "print(data)"
   ]
  },
  {
   "cell_type": "code",
   "execution_count": 27,
   "metadata": {},
   "outputs": [
    {
     "name": "stdout",
     "output_type": "stream",
     "text": [
      "[[0, 0, 0, 0, 0], [0, 0, 0, 0, 0], [0, 0, 0, 0, 0], [3, 0, 2, 0, 3], [3, 0, 2, 2, 2]]\n"
     ]
    }
   ],
   "source": [
    "find(1)"
   ]
  },
  {
   "cell_type": "code",
   "execution_count": 28,
   "metadata": {},
   "outputs": [
    {
     "name": "stdout",
     "output_type": "stream",
     "text": [
      "[[0, 0, 0, 0, 0], [0, 0, 0, 0, 0], [0, 0, 0, 0, 0], [3, 0, 2, 0, 3], [3, 0, 2, 2, 2]]\n"
     ]
    }
   ],
   "source": [
    "find(1)"
   ]
  },
  {
   "cell_type": "code",
   "execution_count": 29,
   "metadata": {},
   "outputs": [
    {
     "name": "stdout",
     "output_type": "stream",
     "text": [
      "[[0, 0, 0, 0, 0], [0, 0, 0, 0, 0], [0, 0, 0, 0, 0], [3, 0, 0, 0, 3], [3, 0, 0, 0, 0]]\n"
     ]
    }
   ],
   "source": [
    "find(2)"
   ]
  },
  {
   "cell_type": "code",
   "execution_count": 31,
   "metadata": {},
   "outputs": [],
   "source": [
    "def check_num(x, y, d0):\n",
    "    if x < 0 or x >4 or y < 0 or y > 4:\n",
    "        return False\n",
    "    else:\n",
    "        if data[x][y] == d0:\n",
    "            return True\n",
    "        else:\n",
    "            return False\n",
    "\n",
    "def find(nn):\n",
    "    all_numbers = []\n",
    "    for x in range(5):\n",
    "        for y in range(5):\n",
    "            loc = (x, y)\n",
    "            d0 = data[x][y]\n",
    "            numbers = [loc]\n",
    "            check_list = [(x-1, y), (x+1, y), (x, y-1), (x, y+1)]\n",
    "            for l in check_list:\n",
    "                xx = l[0]\n",
    "                yy = l[1]\n",
    "                if check_num(xx, yy, d0):\n",
    "                    numbers.append(l)\n",
    "            if len(numbers)>=3 and d0 == nn:\n",
    "                all_numbers.extend(numbers)\n",
    "    for cp in all_numbers:\n",
    "        data[cp[0]][cp[1]] = 0\n",
    "\n",
    "    # drop down\n",
    "    for row_number in range(4):\n",
    "        for col_number in range(5):\n",
    "            if data[row_number][col_number] != 0 and data[row_number+1][col_number] == 0:\n",
    "                data[row_number+1][col_number] = data[row_number][col_number]\n",
    "                data[row_number][col_number] = 0\n",
    "\n",
    "find(1)\n",
    "find(1)\n",
    "find(2)\n",
    "find(1)\n",
    "find(2)\n",
    "find(3)"
   ]
  },
  {
   "cell_type": "code",
   "execution_count": 33,
   "metadata": {},
   "outputs": [
    {
     "name": "stdout",
     "output_type": "stream",
     "text": [
      "3\n"
     ]
    }
   ],
   "source": [
    "count_num = 0\n",
    "for i in range(5):\n",
    "    for j in range(5):\n",
    "        if data[i][j] != 0:\n",
    "            count_num += 1\n",
    "print(count_num)"
   ]
  },
  {
   "cell_type": "code",
   "execution_count": 37,
   "metadata": {},
   "outputs": [],
   "source": [
    "def count_numbers(data):\n",
    "    \"\"\"count the numbers of the numbers\"\"\"\n",
    "    count = [0, 0, 0]\n",
    "    for i in range(5):\n",
    "        for j in range(5):\n",
    "            if data[i][j] == 1:\n",
    "                count[0] += 1\n",
    "            if data[i][j] == 2:\n",
    "                count[1] += 1\n",
    "            if data[i][j] == 3:\n",
    "                count[2] += 1\n",
    "    return count"
   ]
  },
  {
   "cell_type": "code",
   "execution_count": 49,
   "metadata": {},
   "outputs": [
    {
     "data": {
      "text/plain": [
       "18"
      ]
     },
     "execution_count": 49,
     "metadata": {},
     "output_type": "execute_result"
    }
   ],
   "source": [
    "max(count_numbers(data))"
   ]
  },
  {
   "cell_type": "code",
   "execution_count": 51,
   "metadata": {},
   "outputs": [
    {
     "data": {
      "text/plain": [
       "1"
      ]
     },
     "execution_count": 51,
     "metadata": {},
     "output_type": "execute_result"
    }
   ],
   "source": [
    "count_numbers(data).index(max(count_numbers(data))) + 1"
   ]
  },
  {
   "cell_type": "code",
   "execution_count": 52,
   "metadata": {},
   "outputs": [],
   "source": [
    "find(count_numbers(data).index(max(count_numbers(data))) + 1)"
   ]
  },
  {
   "cell_type": "code",
   "execution_count": 53,
   "metadata": {},
   "outputs": [
    {
     "name": "stdout",
     "output_type": "stream",
     "text": [
      "[[0, 0, 0, 0, 0], [0, 0, 0, 0, 0], [0, 0, 0, 0, 0], [3, 0, 2, 0, 3], [3, 0, 2, 2, 2]]\n"
     ]
    }
   ],
   "source": [
    "print(data)"
   ]
  },
  {
   "cell_type": "code",
   "execution_count": 59,
   "metadata": {},
   "outputs": [
    {
     "data": {
      "text/plain": [
       "[[0, 0, 0, 0, 0],\n",
       " [0, 0, 0, 0, 0],\n",
       " [0, 0, 0, 0, 0],\n",
       " [3, 0, 2, 0, 3],\n",
       " [3, 0, 2, 2, 2]]"
      ]
     },
     "execution_count": 59,
     "metadata": {},
     "output_type": "execute_result"
    }
   ],
   "source": [
    "data"
   ]
  },
  {
   "cell_type": "code",
   "execution_count": 75,
   "metadata": {},
   "outputs": [],
   "source": [
    "def final_num(data):\n",
    "    count_num = 0\n",
    "    for i in range(5):\n",
    "        for j in range(5):\n",
    "            if data[i][j] != 0:\n",
    "                count_num += 1"
   ]
  },
  {
   "cell_type": "code",
   "execution_count": 57,
   "metadata": {},
   "outputs": [
    {
     "name": "stdout",
     "output_type": "stream",
     "text": [
      "7\n"
     ]
    }
   ],
   "source": [
    "final_num(data)"
   ]
  },
  {
   "cell_type": "code",
   "execution_count": 62,
   "metadata": {},
   "outputs": [
    {
     "name": "stdout",
     "output_type": "stream",
     "text": [
      "3\n",
      "None\n",
      "3\n",
      "None\n",
      "None\n"
     ]
    }
   ],
   "source": [
    "last_number = 25\n",
    "while True:\n",
    "    find(count_numbers(data).index(max(count_numbers(data))) + 1)\n",
    "    number = final_num(data)\n",
    "    print(number)\n",
    "    if number != last_number:\n",
    "        last_number = number\n",
    "    else:\n",
    "        break\n",
    "print(last_number)"
   ]
  },
  {
   "cell_type": "code",
   "execution_count": 63,
   "metadata": {},
   "outputs": [],
   "source": [
    "def check_num(x, y, d0):\n",
    "    if x < 0 or x >4 or y < 0 or y > 4:\n",
    "        return False\n",
    "    else:\n",
    "        if data[x][y] == d0:\n",
    "            return True\n",
    "        else:\n",
    "            return False\n",
    "\n",
    "def find(nn):\n",
    "    all_numbers = []\n",
    "    for x in range(5):\n",
    "        for y in range(5):\n",
    "            loc = (x, y)\n",
    "            d0 = data[x][y]\n",
    "            numbers = [loc]\n",
    "            check_list = [(x-1, y), (x+1, y), (x, y-1), (x, y+1)]\n",
    "            for l in check_list:\n",
    "                xx = l[0]\n",
    "                yy = l[1]\n",
    "                if check_num(xx, yy, d0):\n",
    "                    numbers.append(l)\n",
    "            if len(numbers)>=3 and d0 == nn:\n",
    "                all_numbers.extend(numbers)\n",
    "    for cp in all_numbers:\n",
    "        data[cp[0]][cp[1]] = 0\n",
    "\n",
    "    # drop down\n",
    "    for row_number in range(4):\n",
    "        for col_number in range(5):\n",
    "            if data[row_number][col_number] != 0 and data[row_number+1][col_number] == 0:\n",
    "                data[row_number+1][col_number] = data[row_number][col_number]\n",
    "                data[row_number][col_number] = 0\n",
    "\n",
    "def count_numbers(data):\n",
    "    \"\"\"count the numbers of the numbers\"\"\"\n",
    "    count = [0, 0, 0]\n",
    "    for i in range(5):\n",
    "        for j in range(5):\n",
    "            if data[i][j] == 1:\n",
    "                count[0] += 1\n",
    "            if data[i][j] == 2:\n",
    "                count[1] += 1\n",
    "            if data[i][j] == 3:\n",
    "                count[2] += 1\n",
    "    return count"
   ]
  },
  {
   "cell_type": "code",
   "execution_count": 73,
   "metadata": {},
   "outputs": [
    {
     "name": "stdout",
     "output_type": "stream",
     "text": [
      "3\n",
      "3\n",
      "None\n"
     ]
    }
   ],
   "source": [
    "last_number = 25\n",
    "while True:\n",
    "    find(count_numbers(data).index(max(count_numbers(data))) + 1)\n",
    "    number = final_num(data)\n",
    "    if number != last_number:\n",
    "        last_number = number\n",
    "    else:\n",
    "        break\n",
    "print(last_number)"
   ]
  },
  {
   "cell_type": "code",
   "execution_count": 74,
   "metadata": {},
   "outputs": [
    {
     "name": "stdout",
     "output_type": "stream",
     "text": [
      "3\n"
     ]
    }
   ],
   "source": [
    "number = final_num(data)"
   ]
  },
  {
   "cell_type": "code",
   "execution_count": 67,
   "metadata": {},
   "outputs": [
    {
     "data": {
      "text/plain": [
       "3"
      ]
     },
     "execution_count": 67,
     "metadata": {},
     "output_type": "execute_result"
    }
   ],
   "source": [
    "count_numbers(data).index(max(count_numbers(data))) + 1"
   ]
  },
  {
   "cell_type": "code",
   "execution_count": 68,
   "metadata": {},
   "outputs": [],
   "source": [
    "find(count_numbers(data).index(max(count_numbers(data))) + 1)"
   ]
  },
  {
   "cell_type": "code",
   "execution_count": 69,
   "metadata": {},
   "outputs": [
    {
     "data": {
      "text/plain": [
       "[[0, 0, 0, 0, 0],\n",
       " [0, 0, 0, 0, 0],\n",
       " [0, 0, 0, 0, 0],\n",
       " [3, 0, 0, 0, 0],\n",
       " [3, 0, 0, 0, 3]]"
      ]
     },
     "execution_count": 69,
     "metadata": {},
     "output_type": "execute_result"
    }
   ],
   "source": [
    "data"
   ]
  },
  {
   "cell_type": "code",
   "execution_count": 76,
   "metadata": {},
   "outputs": [],
   "source": [
    "number = final_num(data)"
   ]
  },
  {
   "cell_type": "code",
   "execution_count": 78,
   "metadata": {},
   "outputs": [
    {
     "name": "stdout",
     "output_type": "stream",
     "text": [
      "None\n"
     ]
    }
   ],
   "source": [
    "print(number)"
   ]
  },
  {
   "cell_type": "code",
   "execution_count": null,
   "metadata": {},
   "outputs": [],
   "source": []
  },
  {
   "cell_type": "code",
   "execution_count": null,
   "metadata": {},
   "outputs": [],
   "source": []
  },
  {
   "cell_type": "code",
   "execution_count": null,
   "metadata": {},
   "outputs": [],
   "source": []
  },
  {
   "cell_type": "code",
   "execution_count": null,
   "metadata": {},
   "outputs": [],
   "source": []
  },
  {
   "cell_type": "code",
   "execution_count": 79,
   "metadata": {},
   "outputs": [],
   "source": [
    "def check_num(x, y, d0):\n",
    "    if x < 0 or x >4 or y < 0 or y > 4:\n",
    "        return False\n",
    "    else:\n",
    "        if data[x][y] == d0:\n",
    "            return True\n",
    "        else:\n",
    "            return False\n",
    "\n",
    "def find(nn):\n",
    "    \"\"\"clean number nn\"\"\"\n",
    "    all_numbers = []\n",
    "    for x in range(5):\n",
    "        for y in range(5):\n",
    "            loc = (x, y)\n",
    "            d0 = data[x][y]\n",
    "            numbers = [loc]\n",
    "            check_list = [(x-1, y), (x+1, y), (x, y-1), (x, y+1)]\n",
    "            for l in check_list:\n",
    "                xx = l[0]\n",
    "                yy = l[1]\n",
    "                if check_num(xx, yy, d0):\n",
    "                    numbers.append(l)\n",
    "            if len(numbers)>=3 and d0 == nn:\n",
    "                all_numbers.extend(numbers)\n",
    "    for cp in all_numbers:\n",
    "        data[cp[0]][cp[1]] = 0\n",
    "\n",
    "    # drop down\n",
    "    for row_number in range(4):\n",
    "        for col_number in range(5):\n",
    "            if data[row_number][col_number] != 0 and data[row_number+1][col_number] == 0:\n",
    "                data[row_number+1][col_number] = data[row_number][col_number]\n",
    "                data[row_number][col_number] = 0\n",
    "\n",
    "def count_numbers(data):\n",
    "    \"\"\"\n",
    "    count the numbers of the numbers\n",
    "    in order to find the most one to clean\n",
    "    \"\"\"\n",
    "    count = [0, 0, 0]\n",
    "    for i in range(5):\n",
    "        for j in range(5):\n",
    "            if data[i][j] == 1:\n",
    "                count[0] += 1\n",
    "            if data[i][j] == 2:\n",
    "                count[1] += 1\n",
    "            if data[i][j] == 3:\n",
    "                count[2] += 1\n",
    "    return count\n",
    "\n",
    "def final_num(data):\n",
    "    count_num = 0\n",
    "    for i in range(5):\n",
    "        for j in range(5):\n",
    "            if data[i][j] != 0:\n",
    "                count_num += 1\n",
    "    return count_num"
   ]
  },
  {
   "cell_type": "code",
   "execution_count": 80,
   "metadata": {},
   "outputs": [
    {
     "data": {
      "text/plain": [
       "[[0, 0, 0, 0, 0],\n",
       " [0, 0, 0, 0, 0],\n",
       " [0, 0, 0, 0, 0],\n",
       " [3, 0, 0, 0, 0],\n",
       " [3, 0, 0, 0, 3]]"
      ]
     },
     "execution_count": 80,
     "metadata": {},
     "output_type": "execute_result"
    }
   ],
   "source": [
    "data"
   ]
  },
  {
   "cell_type": "code",
   "execution_count": 81,
   "metadata": {},
   "outputs": [
    {
     "name": "stdout",
     "output_type": "stream",
     "text": [
      "3\n"
     ]
    }
   ],
   "source": [
    "last_number = 25\n",
    "while True:\n",
    "    find(count_numbers(data).index(max(count_numbers(data))) + 1)\n",
    "    number = final_num(data)\n",
    "    if number != last_number:\n",
    "        last_number = number\n",
    "    else:\n",
    "        break\n",
    "print(last_number)"
   ]
  }
 ],
 "metadata": {
  "kernelspec": {
   "display_name": "Python 3",
   "language": "python",
   "name": "python3"
  },
  "language_info": {
   "codemirror_mode": {
    "name": "ipython",
    "version": 3
   },
   "file_extension": ".py",
   "mimetype": "text/x-python",
   "name": "python",
   "nbconvert_exporter": "python",
   "pygments_lexer": "ipython3",
   "version": "3.5.2"
  }
 },
 "nbformat": 4,
 "nbformat_minor": 2
}
