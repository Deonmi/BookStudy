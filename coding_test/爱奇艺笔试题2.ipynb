{
 "cells": [
  {
   "cell_type": "code",
   "execution_count": 1,
   "metadata": {},
   "outputs": [
    {
     "name": "stdin",
     "output_type": "stream",
     "text": [
      " 1 1\n"
     ]
    },
    {
     "name": "stdout",
     "output_type": "stream",
     "text": [
      "1 1\n"
     ]
    }
   ],
   "source": [
    "n, m = input().split()\n",
    "n_pool, m_pool = int(n), int(m)\n",
    "\n",
    "# 拿球顺序\n",
    "aim = []\n",
    "\n",
    "def get_ball(color):\n",
    "    \"\"\"拿球行为\"\"\"\n",
    "    if color == 0:\n",
    "        n_pool -= 1\n",
    "    else:\n",
    "        m_pool -= 1\n",
    "\n",
    "def f(times):\n",
    "    \"\"\"次数\"\"\"\n",
    "    if times=1:\n",
    "        return (n) / (m+n)\n",
    "    else:\n",
    "        \n",
    "    A_win = "
   ]
  },
  {
   "cell_type": "code",
   "execution_count": null,
   "metadata": {},
   "outputs": [],
   "source": []
  }
 ],
 "metadata": {
  "kernelspec": {
   "display_name": "Python 3",
   "language": "python",
   "name": "python3"
  },
  "language_info": {
   "codemirror_mode": {
    "name": "ipython",
    "version": 3
   },
   "file_extension": ".py",
   "mimetype": "text/x-python",
   "name": "python",
   "nbconvert_exporter": "python",
   "pygments_lexer": "ipython3",
   "version": "3.5.3"
  }
 },
 "nbformat": 4,
 "nbformat_minor": 4
}
