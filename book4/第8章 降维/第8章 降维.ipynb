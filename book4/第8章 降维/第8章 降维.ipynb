{
 "cells": [
  {
   "cell_type": "code",
   "execution_count": 3,
   "metadata": {},
   "outputs": [],
   "source": [
    "import numpy as np\n",
    "\n",
    "X = np.random.random((50, 2))\n",
    "X_centered = X - X.mean(axis=0)\n",
    "U, s, V = np.linalg.svd(X_centered)\n",
    "c1 = V.T[:, 0]\n",
    "c2 = V.T[:, 1]\n",
    "\n",
    "W2 = V.T[:, :1]\n",
    "W2D = X_centered.dot(W2)"
   ]
  },
  {
   "cell_type": "code",
   "execution_count": 4,
   "metadata": {},
   "outputs": [
    {
     "data": {
      "text/plain": [
       "array([-0.36270925, -0.93190235])"
      ]
     },
     "execution_count": 4,
     "metadata": {},
     "output_type": "execute_result"
    }
   ],
   "source": [
    "c1"
   ]
  },
  {
   "cell_type": "code",
   "execution_count": 5,
   "metadata": {},
   "outputs": [
    {
     "data": {
      "text/plain": [
       "array([-0.93190235,  0.36270925])"
      ]
     },
     "execution_count": 5,
     "metadata": {},
     "output_type": "execute_result"
    }
   ],
   "source": [
    "c2"
   ]
  },
  {
   "cell_type": "code",
   "execution_count": 6,
   "metadata": {},
   "outputs": [
    {
     "data": {
      "text/plain": [
       "array([[-0.36270925, -0.93190235],\n",
       "       [-0.93190235,  0.36270925]])"
      ]
     },
     "execution_count": 6,
     "metadata": {},
     "output_type": "execute_result"
    }
   ],
   "source": [
    "V"
   ]
  },
  {
   "cell_type": "code",
   "execution_count": 7,
   "metadata": {},
   "outputs": [],
   "source": [
    "W2 = V.T[:, :1]"
   ]
  },
  {
   "cell_type": "code",
   "execution_count": 8,
   "metadata": {},
   "outputs": [
    {
     "data": {
      "text/plain": [
       "array([[-0.36270925],\n",
       "       [-0.93190235]])"
      ]
     },
     "execution_count": 8,
     "metadata": {},
     "output_type": "execute_result"
    }
   ],
   "source": [
    "W2"
   ]
  },
  {
   "cell_type": "code",
   "execution_count": 9,
   "metadata": {},
   "outputs": [],
   "source": [
    "W2D = X_centered.dot(W2)"
   ]
  },
  {
   "cell_type": "code",
   "execution_count": 10,
   "metadata": {},
   "outputs": [
    {
     "data": {
      "text/plain": [
       "array([[-0.39233402],\n",
       "       [-0.28857368],\n",
       "       [-0.10617037],\n",
       "       [-0.4216964 ],\n",
       "       [-0.22465363],\n",
       "       [-0.02929604],\n",
       "       [ 0.1023748 ],\n",
       "       [-0.22731089],\n",
       "       [ 0.13695384],\n",
       "       [-0.28441965],\n",
       "       [-0.50664722],\n",
       "       [-0.25836477],\n",
       "       [ 0.07538414],\n",
       "       [ 0.09381625],\n",
       "       [ 0.49073958],\n",
       "       [-0.21384665],\n",
       "       [-0.65896483],\n",
       "       [-0.20243959],\n",
       "       [-0.48092725],\n",
       "       [-0.05552603],\n",
       "       [ 0.40991829],\n",
       "       [ 0.25417749],\n",
       "       [ 0.36292444],\n",
       "       [ 0.1018798 ],\n",
       "       [ 0.43517579],\n",
       "       [ 0.25969836],\n",
       "       [ 0.26738851],\n",
       "       [-0.59831662],\n",
       "       [-0.34862086],\n",
       "       [ 0.30446757],\n",
       "       [ 0.01307824],\n",
       "       [ 0.12129737],\n",
       "       [ 0.0827309 ],\n",
       "       [-0.39829632],\n",
       "       [-0.27147748],\n",
       "       [ 0.36635154],\n",
       "       [ 0.26462201],\n",
       "       [ 0.07922015],\n",
       "       [ 0.22857245],\n",
       "       [ 0.40688764],\n",
       "       [-0.35240263],\n",
       "       [ 0.40388177],\n",
       "       [-0.53987017],\n",
       "       [ 0.35828378],\n",
       "       [ 0.13202804],\n",
       "       [ 0.29917321],\n",
       "       [ 0.52077385],\n",
       "       [ 0.14212711],\n",
       "       [ 0.148295  ],\n",
       "       [-0.00206684]])"
      ]
     },
     "execution_count": 10,
     "metadata": {},
     "output_type": "execute_result"
    }
   ],
   "source": [
    "W2D"
   ]
  },
  {
   "cell_type": "code",
   "execution_count": 13,
   "metadata": {},
   "outputs": [],
   "source": [
    "from sklearn.decomposition import PCA\n",
    "\n",
    "pca = PCA(n_components=1)\n",
    "X2D = pca.fit_transform(X)"
   ]
  },
  {
   "cell_type": "code",
   "execution_count": 14,
   "metadata": {},
   "outputs": [
    {
     "data": {
      "text/plain": [
       "array([[ 0.39233402],\n",
       "       [ 0.28857368],\n",
       "       [ 0.10617037],\n",
       "       [ 0.4216964 ],\n",
       "       [ 0.22465363],\n",
       "       [ 0.02929604],\n",
       "       [-0.1023748 ],\n",
       "       [ 0.22731089],\n",
       "       [-0.13695384],\n",
       "       [ 0.28441965],\n",
       "       [ 0.50664722],\n",
       "       [ 0.25836477],\n",
       "       [-0.07538414],\n",
       "       [-0.09381625],\n",
       "       [-0.49073958],\n",
       "       [ 0.21384665],\n",
       "       [ 0.65896483],\n",
       "       [ 0.20243959],\n",
       "       [ 0.48092725],\n",
       "       [ 0.05552603],\n",
       "       [-0.40991829],\n",
       "       [-0.25417749],\n",
       "       [-0.36292444],\n",
       "       [-0.1018798 ],\n",
       "       [-0.43517579],\n",
       "       [-0.25969836],\n",
       "       [-0.26738851],\n",
       "       [ 0.59831662],\n",
       "       [ 0.34862086],\n",
       "       [-0.30446757],\n",
       "       [-0.01307824],\n",
       "       [-0.12129737],\n",
       "       [-0.0827309 ],\n",
       "       [ 0.39829632],\n",
       "       [ 0.27147748],\n",
       "       [-0.36635154],\n",
       "       [-0.26462201],\n",
       "       [-0.07922015],\n",
       "       [-0.22857245],\n",
       "       [-0.40688764],\n",
       "       [ 0.35240263],\n",
       "       [-0.40388177],\n",
       "       [ 0.53987017],\n",
       "       [-0.35828378],\n",
       "       [-0.13202804],\n",
       "       [-0.29917321],\n",
       "       [-0.52077385],\n",
       "       [-0.14212711],\n",
       "       [-0.148295  ],\n",
       "       [ 0.00206684]])"
      ]
     },
     "execution_count": 14,
     "metadata": {},
     "output_type": "execute_result"
    }
   ],
   "source": [
    "X2D"
   ]
  },
  {
   "cell_type": "code",
   "execution_count": 15,
   "metadata": {},
   "outputs": [
    {
     "data": {
      "text/plain": [
       "array([[0.36270925, 0.93190235]])"
      ]
     },
     "execution_count": 15,
     "metadata": {},
     "output_type": "execute_result"
    }
   ],
   "source": [
    "pca.components_"
   ]
  },
  {
   "cell_type": "code",
   "execution_count": 16,
   "metadata": {},
   "outputs": [
    {
     "data": {
      "text/plain": [
       "array([0.1032374])"
      ]
     },
     "execution_count": 16,
     "metadata": {},
     "output_type": "execute_result"
    }
   ],
   "source": [
    "pca.explained_variance_"
   ]
  },
  {
   "cell_type": "code",
   "execution_count": 17,
   "metadata": {},
   "outputs": [
    {
     "data": {
      "text/plain": [
       "array([0.5253216])"
      ]
     },
     "execution_count": 17,
     "metadata": {},
     "output_type": "execute_result"
    }
   ],
   "source": [
    "pca.explained_variance_ratio_"
   ]
  },
  {
   "cell_type": "markdown",
   "metadata": {},
   "source": [
    "- 增量PCA"
   ]
  },
  {
   "cell_type": "code",
   "execution_count": 21,
   "metadata": {},
   "outputs": [],
   "source": [
    "import numpy as np\n",
    "from sklearn.decomposition import IncrementalPCA\n",
    "from sklearn.datasets import fetch_mldata\n",
    "\n",
    "n_batches = 100\n",
    "mnist = fetch_mldata('MNIST original')\n",
    "X_mnist = mnist[\"data\"]\n",
    "\n",
    "inc_pca = IncrementalPCA(n_components=154)\n",
    "for X_batch in np.array_split(X_mnist, n_batches):\n",
    "    inc_pca.partial_fit(X_batch)\n",
    "X_mnist_reduced = inc_pca.transform(X_mnist)"
   ]
  },
  {
   "cell_type": "code",
   "execution_count": 22,
   "metadata": {},
   "outputs": [
    {
     "data": {
      "text/plain": [
       "{'COL_NAMES': ['label', 'data'],\n",
       " 'DESCR': 'mldata.org dataset: mnist-original',\n",
       " 'data': array([[0, 0, 0, ..., 0, 0, 0],\n",
       "        [0, 0, 0, ..., 0, 0, 0],\n",
       "        [0, 0, 0, ..., 0, 0, 0],\n",
       "        ...,\n",
       "        [0, 0, 0, ..., 0, 0, 0],\n",
       "        [0, 0, 0, ..., 0, 0, 0],\n",
       "        [0, 0, 0, ..., 0, 0, 0]], dtype=uint8),\n",
       " 'target': array([0., 0., 0., ..., 9., 9., 9.])}"
      ]
     },
     "execution_count": 22,
     "metadata": {},
     "output_type": "execute_result"
    }
   ],
   "source": [
    "mnist"
   ]
  },
  {
   "cell_type": "code",
   "execution_count": 33,
   "metadata": {},
   "outputs": [
    {
     "data": {
      "text/plain": [
       "array([[1010.4938683 ,  289.98656863, -576.13114671,  485.02735857],\n",
       "       [1033.56107939,  351.21945458, -498.41164119,  554.81900289],\n",
       "       [ 615.42549819,  244.23720443, -629.1356727 ,  725.08891978],\n",
       "       [ 942.22176427,  245.4121022 , -868.28183244,  436.52778948],\n",
       "       [1645.83442283,   80.76361962,  192.65419853,  733.62010349]])"
      ]
     },
     "execution_count": 33,
     "metadata": {},
     "output_type": "execute_result"
    }
   ],
   "source": [
    "X_mnist_reduced[:5, :4]"
   ]
  },
  {
   "cell_type": "code",
   "execution_count": 34,
   "metadata": {},
   "outputs": [
    {
     "data": {
      "text/plain": [
       "(70000, 784)"
      ]
     },
     "execution_count": 34,
     "metadata": {},
     "output_type": "execute_result"
    }
   ],
   "source": [
    "X_mnist.shape"
   ]
  },
  {
   "cell_type": "code",
   "execution_count": 35,
   "metadata": {},
   "outputs": [],
   "source": [
    "m, n = X_mnist.shape"
   ]
  },
  {
   "cell_type": "code",
   "execution_count": null,
   "metadata": {},
   "outputs": [],
   "source": [
    "X_mm = np.memmap(filename, dtype=\"float32\", mode=\"readonly\", shape=(m, n))\n",
    "batch_size = m // n_batches\n",
    "inc_pca = IncrementalPCA(n_components=154, batch_size=batch_size)\n",
    "inc_pca.fit(X_mm)"
   ]
  }
 ],
 "metadata": {
  "kernelspec": {
   "display_name": "Python 3",
   "language": "python",
   "name": "python3"
  },
  "language_info": {
   "codemirror_mode": {
    "name": "ipython",
    "version": 3
   },
   "file_extension": ".py",
   "mimetype": "text/x-python",
   "name": "python",
   "nbconvert_exporter": "python",
   "pygments_lexer": "ipython3",
   "version": "3.5.3"
  }
 },
 "nbformat": 4,
 "nbformat_minor": 4
}
