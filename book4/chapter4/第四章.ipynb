{
 "cells": [
  {
   "cell_type": "markdown",
   "metadata": {},
   "source": [
    "# 第四章 训练模型"
   ]
  },
  {
   "cell_type": "markdown",
   "metadata": {},
   "source": [
    "## 线性回归"
   ]
  },
  {
   "cell_type": "code",
   "execution_count": 1,
   "metadata": {},
   "outputs": [],
   "source": [
    "import numpy as np"
   ]
  },
  {
   "cell_type": "code",
   "execution_count": 2,
   "metadata": {},
   "outputs": [],
   "source": [
    "X = 2 * np.random.rand(100, 1)"
   ]
  },
  {
   "cell_type": "code",
   "execution_count": 3,
   "metadata": {},
   "outputs": [],
   "source": [
    "y = 4 + 3 * X + np.random.randn(100, 1)"
   ]
  },
  {
   "cell_type": "code",
   "execution_count": 4,
   "metadata": {},
   "outputs": [],
   "source": [
    "X_b = np.c_[np.ones((100, 1)), X]"
   ]
  },
  {
   "cell_type": "code",
   "execution_count": 6,
   "metadata": {},
   "outputs": [
    {
     "data": {
      "text/plain": [
       "array([[1.        , 1.12882131],\n",
       "       [1.        , 0.80755095],\n",
       "       [1.        , 0.88807573],\n",
       "       [1.        , 1.09342495],\n",
       "       [1.        , 1.27794592]])"
      ]
     },
     "execution_count": 6,
     "metadata": {},
     "output_type": "execute_result"
    }
   ],
   "source": [
    "X_b[:5]"
   ]
  },
  {
   "cell_type": "code",
   "execution_count": 7,
   "metadata": {},
   "outputs": [],
   "source": [
    "theta_best = np.linalg.inv(X_b.T.dot(X_b)).dot(X_b.T).dot(y)"
   ]
  },
  {
   "cell_type": "code",
   "execution_count": 8,
   "metadata": {},
   "outputs": [
    {
     "data": {
      "text/plain": [
       "array([[3.97671416],\n",
       "       [3.1617004 ]])"
      ]
     },
     "execution_count": 8,
     "metadata": {},
     "output_type": "execute_result"
    }
   ],
   "source": [
    "theta_best"
   ]
  },
  {
   "cell_type": "code",
   "execution_count": 9,
   "metadata": {},
   "outputs": [],
   "source": [
    "X_new = np.array([[0], [2]])"
   ]
  },
  {
   "cell_type": "code",
   "execution_count": 10,
   "metadata": {},
   "outputs": [],
   "source": [
    "X_new_b = np.c_[np.ones((2, 1)), X_new]"
   ]
  },
  {
   "cell_type": "code",
   "execution_count": 11,
   "metadata": {},
   "outputs": [
    {
     "data": {
      "text/plain": [
       "array([[1., 0.],\n",
       "       [1., 2.]])"
      ]
     },
     "execution_count": 11,
     "metadata": {},
     "output_type": "execute_result"
    }
   ],
   "source": [
    "X_new_b"
   ]
  },
  {
   "cell_type": "code",
   "execution_count": 12,
   "metadata": {},
   "outputs": [],
   "source": [
    "y_predict = X_new_b.dot(theta_best)"
   ]
  },
  {
   "cell_type": "code",
   "execution_count": 13,
   "metadata": {},
   "outputs": [
    {
     "data": {
      "text/plain": [
       "array([[ 3.97671416],\n",
       "       [10.30011496]])"
      ]
     },
     "execution_count": 13,
     "metadata": {},
     "output_type": "execute_result"
    }
   ],
   "source": [
    "y_predict"
   ]
  },
  {
   "cell_type": "code",
   "execution_count": 15,
   "metadata": {},
   "outputs": [],
   "source": [
    "import matplotlib.pyplot as plt"
   ]
  },
  {
   "cell_type": "code",
   "execution_count": 25,
   "metadata": {},
   "outputs": [
    {
     "data": {
      "image/png": "[encoded data removed]",
      "text/plain": [
       "<Figure size 432x288 with 1 Axes>"
      ]
     },
     "metadata": {
      "needs_background": "light"
     },
     "output_type": "display_data"
    }
   ],
   "source": [
    "plt.scatter(X, y, c='black', s=5)\n",
    "plt.plot(X_new, y_predict, \"r-\")\n",
    "plt.axis([0, 2, 0, 15])\n",
    "plt.show()"
   ]
  },
  {
   "cell_type": "code",
   "execution_count": 26,
   "metadata": {},
   "outputs": [],
   "source": [
    "from sklearn.linear_model import LinearRegression"
   ]
  },
  {
   "cell_type": "code",
   "execution_count": 28,
   "metadata": {},
   "outputs": [],
   "source": [
    "lin_reg = LinearRegression()"
   ]
  },
  {
   "cell_type": "code",
   "execution_count": 29,
   "metadata": {},
   "outputs": [
    {
     "data": {
      "text/plain": [
       "LinearRegression(copy_X=True, fit_intercept=True, n_jobs=None, normalize=False)"
      ]
     },
     "execution_count": 29,
     "metadata": {},
     "output_type": "execute_result"
    }
   ],
   "source": [
    "lin_reg.fit(X, y)"
   ]
  },
  {
   "cell_type": "code",
   "execution_count": 30,
   "metadata": {},
   "outputs": [
    {
     "data": {
      "text/plain": [
       "array([3.97671416])"
      ]
     },
     "execution_count": 30,
     "metadata": {},
     "output_type": "execute_result"
    }
   ],
   "source": [
    "lin_reg.intercept_"
   ]
  },
  {
   "cell_type": "code",
   "execution_count": 31,
   "metadata": {},
   "outputs": [
    {
     "data": {
      "text/plain": [
       "array([[3.1617004]])"
      ]
     },
     "execution_count": 31,
     "metadata": {},
     "output_type": "execute_result"
    }
   ],
   "source": [
    "lin_reg.coef_"
   ]
  },
  {
   "cell_type": "code",
   "execution_count": 32,
   "metadata": {},
   "outputs": [
    {
     "data": {
      "text/plain": [
       "array([[ 3.97671416],\n",
       "       [10.30011496]])"
      ]
     },
     "execution_count": 32,
     "metadata": {},
     "output_type": "execute_result"
    }
   ],
   "source": [
    "lin_reg.predict(X_new)"
   ]
  },
  {
   "cell_type": "markdown",
   "metadata": {},
   "source": [
    "## 批量梯度下降"
   ]
  },
  {
   "cell_type": "code",
   "execution_count": 33,
   "metadata": {},
   "outputs": [],
   "source": [
    "eta = 0.1\n",
    "n_iterations = 1000\n",
    "m = 100"
   ]
  },
  {
   "cell_type": "code",
   "execution_count": 34,
   "metadata": {},
   "outputs": [],
   "source": [
    "theta = np.random.randn(2, 1)"
   ]
  },
  {
   "cell_type": "code",
   "execution_count": 35,
   "metadata": {},
   "outputs": [
    {
     "data": {
      "text/plain": [
       "array([[-0.45301355],\n",
       "       [-1.08505882]])"
      ]
     },
     "execution_count": 35,
     "metadata": {},
     "output_type": "execute_result"
    }
   ],
   "source": [
    "theta"
   ]
  },
  {
   "cell_type": "code",
   "execution_count": 37,
   "metadata": {},
   "outputs": [],
   "source": [
    "for iteration in range(n_iterations):\n",
    "    gradients = 2/m * X_b.T.dot(X_b.dot(theta) - y)\n",
    "    theta = theta - eta * gradients"
   ]
  },
  {
   "cell_type": "code",
   "execution_count": 38,
   "metadata": {},
   "outputs": [
    {
     "data": {
      "text/plain": [
       "array([[3.97671416],\n",
       "       [3.1617004 ]])"
      ]
     },
     "execution_count": 38,
     "metadata": {},
     "output_type": "execute_result"
    }
   ],
   "source": [
    "theta"
   ]
  },
  {
   "cell_type": "markdown",
   "metadata": {},
   "source": [
    "## 随机梯度下降"
   ]
  },
  {
   "cell_type": "code",
   "execution_count": 39,
   "metadata": {},
   "outputs": [],
   "source": [
    "n_epochs = 50\n",
    "t0, t1 = 5, 50"
   ]
  },
  {
   "cell_type": "code",
   "execution_count": 40,
   "metadata": {},
   "outputs": [],
   "source": [
    "def learning_schedule(t):\n",
    "    return t0 / (t + t1)"
   ]
  },
  {
   "cell_type": "code",
   "execution_count": 41,
   "metadata": {},
   "outputs": [],
   "source": [
    "theta = np.random.randn(2, 1)"
   ]
  },
  {
   "cell_type": "code",
   "execution_count": 43,
   "metadata": {},
   "outputs": [
    {
     "data": {
      "text/plain": [
       "43"
      ]
     },
     "execution_count": 43,
     "metadata": {},
     "output_type": "execute_result"
    }
   ],
   "source": [
    "np.random.randint(m)"
   ]
  },
  {
   "cell_type": "code",
   "execution_count": 44,
   "metadata": {},
   "outputs": [],
   "source": [
    "for epoch in range(n_epochs):\n",
    "    for i in range(m):\n",
    "        random_index = np.random.randint(m)\n",
    "        xi = X_b[random_index: random_index+1]\n",
    "        yi = y[random_index: random_index+1]\n",
    "        gradients = 2 * xi.T.dot(xi.dot(theta) - yi)\n",
    "        eta = learning_schedule(epoch * m + i)\n",
    "        theta = theta - eta * gradients"
   ]
  },
  {
   "cell_type": "code",
   "execution_count": 45,
   "metadata": {},
   "outputs": [
    {
     "data": {
      "text/plain": [
       "array([[3.90641525],\n",
       "       [3.26415201]])"
      ]
     },
     "execution_count": 45,
     "metadata": {},
     "output_type": "execute_result"
    }
   ],
   "source": [
    "theta"
   ]
  },
  {
   "cell_type": "code",
   "execution_count": 46,
   "metadata": {},
   "outputs": [],
   "source": [
    "from sklearn.linear_model import SGDRegressor"
   ]
  },
  {
   "cell_type": "code",
   "execution_count": 48,
   "metadata": {},
   "outputs": [],
   "source": [
    "sgd_reg = SGDRegressor(n_iter_no_change=50, penalty=None, eta0=0.1)"
   ]
  },
  {
   "cell_type": "code",
   "execution_count": 50,
   "metadata": {},
   "outputs": [
    {
     "data": {
      "text/plain": [
       "array([ 6.39224079,  7.12722048,  5.1961704 ,  8.78253619, 10.23781299,\n",
       "        9.585107  ,  7.97564627,  7.97522386,  4.9746721 ,  9.671807  ,\n",
       "        4.34749533,  8.39680531, 10.74434103,  4.63108747,  2.67511719,\n",
       "        7.05619326,  6.03395609,  7.46794968,  8.80366717,  4.99054432,\n",
       "        4.90852276,  9.05831073,  8.7742513 ,  4.74419999,  5.7784113 ,\n",
       "        6.49880093,  5.3039858 ,  2.7680627 ,  5.4761459 , 10.91168688,\n",
       "        8.468129  ,  8.07895524,  4.82285647,  3.15400038,  8.37081284,\n",
       "        8.28188058,  3.51682947,  8.70222908,  6.57738313,  4.88675022,\n",
       "        3.11190724,  6.25929609,  8.81595724,  7.11098544,  7.52456661,\n",
       "        4.58394579,  5.72066238,  3.38006971,  9.29927048,  3.44754394,\n",
       "        3.96661427,  4.92707728,  9.93160105,  7.64232945,  4.69613187,\n",
       "        4.50584058,  4.11079784,  7.50014189,  5.09919245,  6.88318902,\n",
       "        7.15668958,  8.68797062,  8.6180734 ,  7.57306718,  8.12842003,\n",
       "       10.37520842,  5.49180441,  3.69914579,  9.3204887 ,  7.60082932,\n",
       "        5.35526159,  9.19397412,  6.05383713,  8.72527514, 11.15127689,\n",
       "        8.5995068 ,  4.83675952,  9.54582967,  8.92607018,  6.81596392,\n",
       "        7.6905122 ,  8.40182712,  6.48469954,  5.63656485,  4.35803719,\n",
       "        9.1734814 ,  4.43888903, 10.11123587, 11.04916538, 10.98068035,\n",
       "        6.84880328,  6.04379517, 10.42252383,  6.67512716, 11.11513014,\n",
       "        8.34052249,  6.84141608, 10.02186106,  6.39634466,  6.22698282])"
      ]
     },
     "execution_count": 50,
     "metadata": {},
     "output_type": "execute_result"
    }
   ],
   "source": [
    "y.ravel()"
   ]
  },
  {
   "cell_type": "code",
   "execution_count": 51,
   "metadata": {},
   "outputs": [
    {
     "data": {
      "text/plain": [
       "array([[1.12882131],\n",
       "       [0.80755095],\n",
       "       [0.88807573],\n",
       "       [1.09342495],\n",
       "       [1.27794592],\n",
       "       [1.39664242],\n",
       "       [0.46991036],\n",
       "       [1.77105581],\n",
       "       [0.16059909],\n",
       "       [1.96419292],\n",
       "       [0.00555138],\n",
       "       [1.69586691],\n",
       "       [1.82441341],\n",
       "       [0.40818983],\n",
       "       [0.03569043],\n",
       "       [1.2967733 ],\n",
       "       [0.44420322],\n",
       "       [0.74439271],\n",
       "       [1.50861199],\n",
       "       [0.02049607],\n",
       "       [0.21824605],\n",
       "       [1.43590412],\n",
       "       [1.67009477],\n",
       "       [0.63294918],\n",
       "       [1.21661291],\n",
       "       [0.55151732],\n",
       "       [0.56512111],\n",
       "       [0.51213083],\n",
       "       [0.64765314],\n",
       "       [1.95961738],\n",
       "       [1.35913614],\n",
       "       [1.63946467],\n",
       "       [0.07906521],\n",
       "       [0.01801238],\n",
       "       [0.58808819],\n",
       "       [1.80747929],\n",
       "       [0.22222136],\n",
       "       [1.35016966],\n",
       "       [0.81276505],\n",
       "       [0.36163875],\n",
       "       [0.4016141 ],\n",
       "       [0.38938302],\n",
       "       [1.78238962],\n",
       "       [0.80978532],\n",
       "       [1.24282037],\n",
       "       [0.61043537],\n",
       "       [1.12918229],\n",
       "       [0.00637647],\n",
       "       [1.39314644],\n",
       "       [0.0220206 ],\n",
       "       [0.03613462],\n",
       "       [0.43093443],\n",
       "       [1.59460287],\n",
       "       [1.07418107],\n",
       "       [0.0255847 ],\n",
       "       [0.69485163],\n",
       "       [0.13732779],\n",
       "       [0.87021494],\n",
       "       [0.09885597],\n",
       "       [0.39863995],\n",
       "       [0.97454504],\n",
       "       [1.48987068],\n",
       "       [1.04336937],\n",
       "       [0.67419881],\n",
       "       [1.50878625],\n",
       "       [1.99013532],\n",
       "       [1.13745489],\n",
       "       [0.09615273],\n",
       "       [1.99118051],\n",
       "       [1.36062752],\n",
       "       [0.75370205],\n",
       "       [1.49465399],\n",
       "       [0.89681176],\n",
       "       [1.62382719],\n",
       "       [1.97557701],\n",
       "       [0.81208916],\n",
       "       [0.09801815],\n",
       "       [1.68002377],\n",
       "       [1.91904666],\n",
       "       [0.67993424],\n",
       "       [0.64230278],\n",
       "       [1.37490191],\n",
       "       [0.42136948],\n",
       "       [0.85769147],\n",
       "       [0.53189932],\n",
       "       [1.44075528],\n",
       "       [0.46940976],\n",
       "       [1.75613577],\n",
       "       [1.8166771 ],\n",
       "       [1.67124163],\n",
       "       [0.9723517 ],\n",
       "       [0.49569323],\n",
       "       [1.44951735],\n",
       "       [1.11164401],\n",
       "       [1.88042168],\n",
       "       [0.72849553],\n",
       "       [1.06849949],\n",
       "       [1.65605798],\n",
       "       [1.4289223 ],\n",
       "       [1.104295  ]])"
      ]
     },
     "execution_count": 51,
     "metadata": {},
     "output_type": "execute_result"
    }
   ],
   "source": [
    "X"
   ]
  },
  {
   "cell_type": "code",
   "execution_count": 52,
   "metadata": {},
   "outputs": [
    {
     "data": {
      "text/plain": [
       "SGDRegressor(alpha=0.0001, average=False, early_stopping=False, epsilon=0.1,\n",
       "             eta0=0.1, fit_intercept=True, l1_ratio=0.15,\n",
       "             learning_rate='invscaling', loss='squared_loss', max_iter=1000,\n",
       "             n_iter_no_change=50, penalty=None, power_t=0.25, random_state=None,\n",
       "             shuffle=True, tol=0.001, validation_fraction=0.1, verbose=0,\n",
       "             warm_start=False)"
      ]
     },
     "execution_count": 52,
     "metadata": {},
     "output_type": "execute_result"
    }
   ],
   "source": [
    "sgd_reg.fit(X, y.ravel())"
   ]
  },
  {
   "cell_type": "code",
   "execution_count": 53,
   "metadata": {},
   "outputs": [
    {
     "data": {
      "text/plain": [
       "array([3.98451594])"
      ]
     },
     "execution_count": 53,
     "metadata": {},
     "output_type": "execute_result"
    }
   ],
   "source": [
    "sgd_reg.intercept_"
   ]
  },
  {
   "cell_type": "code",
   "execution_count": 54,
   "metadata": {},
   "outputs": [
    {
     "data": {
      "text/plain": [
       "array([3.18085631])"
      ]
     },
     "execution_count": 54,
     "metadata": {},
     "output_type": "execute_result"
    }
   ],
   "source": [
    "sgd_reg.coef_"
   ]
  },
  {
   "cell_type": "markdown",
   "metadata": {},
   "source": [
    "## 小批量梯度下降"
   ]
  },
  {
   "cell_type": "code",
   "execution_count": null,
   "metadata": {},
   "outputs": [],
   "source": []
  }
 ],
 "metadata": {
  "kernelspec": {
   "display_name": "Python 3",
   "language": "python",
   "name": "python3"
  },
  "language_info": {
   "codemirror_mode": {
    "name": "ipython",
    "version": 3
   },
   "file_extension": ".py",
   "mimetype": "text/x-python",
   "name": "python",
   "nbconvert_exporter": "python",
   "pygments_lexer": "ipython3",
   "version": "3.5.3"
  }
 },
 "nbformat": 4,
 "nbformat_minor": 4
}
